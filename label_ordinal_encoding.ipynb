{
 "cells": [
  {
   "cell_type": "code",
   "execution_count": 1,
   "id": "31e5b080-6ef8-4642-9c16-5126357783e6",
   "metadata": {},
   "outputs": [],
   "source": [
    "import pandas as pd"
   ]
  },
  {
   "cell_type": "code",
   "execution_count": null,
   "id": "f18176e1-4f5c-47a4-b539-0f142e8b977f",
   "metadata": {},
   "outputs": [],
   "source": [
    "#LabelEncoding"
   ]
  },
  {
   "cell_type": "code",
   "execution_count": 2,
   "id": "56ab8c06-57ab-4bf7-a38f-2c049962a4da",
   "metadata": {},
   "outputs": [],
   "source": [
    "from sklearn.preprocessing import LabelEncoder"
   ]
  },
  {
   "cell_type": "code",
   "execution_count": 3,
   "id": "2dc266fa-0094-4e36-8977-370789f31e66",
   "metadata": {},
   "outputs": [],
   "source": [
    "df = pd.DataFrame({'color':['red','green','red','white','black','blue','white']})"
   ]
  },
  {
   "cell_type": "code",
   "execution_count": 5,
   "id": "60823580-e5b4-4c5d-85c2-f5b7cf131cb9",
   "metadata": {},
   "outputs": [],
   "source": [
    "encoder = LabelEncoder()"
   ]
  },
  {
   "cell_type": "code",
   "execution_count": 7,
   "id": "797c5dd5-17fd-496d-af65-76c077c70efc",
   "metadata": {},
   "outputs": [],
   "source": [
    "encoded = encoder.fit_transform(df['color'])"
   ]
  },
  {
   "cell_type": "code",
   "execution_count": 8,
   "id": "65ccd5bf-0512-4355-b292-d972a222df9a",
   "metadata": {},
   "outputs": [
    {
     "data": {
      "text/plain": [
       "array([3, 2, 3, 4, 0, 1, 4])"
      ]
     },
     "execution_count": 8,
     "metadata": {},
     "output_type": "execute_result"
    }
   ],
   "source": [
    "encoded"
   ]
  },
  {
   "cell_type": "code",
   "execution_count": null,
   "id": "28c07e4e-33db-48ec-80d8-62c41463b2ff",
   "metadata": {},
   "outputs": [],
   "source": [
    "#OrdinalEncoding"
   ]
  },
  {
   "cell_type": "code",
   "execution_count": 9,
   "id": "8e572a6b-2811-47ff-8ff2-35686ef669ba",
   "metadata": {},
   "outputs": [],
   "source": [
    "import pandas as pd\n",
    "from sklearn.preprocessing import OrdinalEncoder"
   ]
  },
  {
   "cell_type": "code",
   "execution_count": 10,
   "id": "4a3af2ea-127e-4bd0-8cd8-2d23fe7bc1cf",
   "metadata": {},
   "outputs": [],
   "source": [
    "df1 = pd.DataFrame({'size':['small','medium','large','medium','small','large']})"
   ]
  },
  {
   "cell_type": "code",
   "execution_count": 11,
   "id": "d1bf9565-f8eb-4187-9c0f-300e975d7554",
   "metadata": {},
   "outputs": [],
   "source": [
    "encoder1 =  OrdinalEncoder(categories = [['small','medium','large']])"
   ]
  },
  {
   "cell_type": "code",
   "execution_count": 13,
   "id": "655a6ec6-4ca4-412d-9f7c-ae674c688411",
   "metadata": {},
   "outputs": [
    {
     "data": {
      "text/plain": [
       "array([[0.],\n",
       "       [1.],\n",
       "       [2.],\n",
       "       [1.],\n",
       "       [0.],\n",
       "       [2.]])"
      ]
     },
     "execution_count": 13,
     "metadata": {},
     "output_type": "execute_result"
    }
   ],
   "source": [
    "encoder1.fit_transform(df1[['size']])"
   ]
  },
  {
   "cell_type": "code",
   "execution_count": null,
   "id": "b1ac175c-c4f7-429a-979b-64f2d870b6be",
   "metadata": {},
   "outputs": [],
   "source": []
  }
 ],
 "metadata": {
  "kernelspec": {
   "display_name": "Python 3 (ipykernel)",
   "language": "python",
   "name": "python3"
  },
  "language_info": {
   "codemirror_mode": {
    "name": "ipython",
    "version": 3
   },
   "file_extension": ".py",
   "mimetype": "text/x-python",
   "name": "python",
   "nbconvert_exporter": "python",
   "pygments_lexer": "ipython3",
   "version": "3.10.8"
  }
 },
 "nbformat": 4,
 "nbformat_minor": 5
}
